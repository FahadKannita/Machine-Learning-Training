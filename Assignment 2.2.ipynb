{
  "nbformat": 4,
  "nbformat_minor": 0,
  "metadata": {
    "colab": {
      "name": "Assignment 2.2.ipynb",
      "provenance": [],
      "toc_visible": true,
      "include_colab_link": true
    },
    "kernelspec": {
      "name": "python3",
      "display_name": "Python 3"
    }
  },
  "cells": [
    {
      "cell_type": "markdown",
      "metadata": {
        "id": "view-in-github",
        "colab_type": "text"
      },
      "source": [
        "<a href=\"https://colab.research.google.com/github/FahadKannita/Machine-Learning-Training/blob/main/Assignment%202.2.ipynb\" target=\"_parent\"><img src=\"https://colab.research.google.com/assets/colab-badge.svg\" alt=\"Open In Colab\"/></a>"
      ]
    },
    {
      "cell_type": "markdown",
      "metadata": {
        "id": "c2sSEq3uSurn"
      },
      "source": [
        "# Files and Exceptions"
      ]
    },
    {
      "cell_type": "code",
      "metadata": {
        "id": "VppOUgyU_Auv",
        "colab": {
          "base_uri": "https://localhost:8080/"
        },
        "outputId": "d359f4c3-b6f6-4413-8b40-d3132f35048c"
      },
      "source": [
        "from google.colab import drive\n",
        "drive.mount('/content/drive')"
      ],
      "execution_count": null,
      "outputs": [
        {
          "output_type": "stream",
          "text": [
            "Mounted at /content/drive\n"
          ],
          "name": "stdout"
        }
      ]
    },
    {
      "cell_type": "markdown",
      "metadata": {
        "id": "qw2XyRs-TWIF"
      },
      "source": [
        "**8. Sum of Numbers** <br>\n",
        "Assume that a file containing a series of integers is named numbers.txt and exists on the Drive. Write a program that reads all of the numbers stored in the file and calculates their total.\n",
        "\n",
        "Find file here: <br>\n",
        "https://drive.google.com/file/d/1GaOURA7jp0NLvfaOfl4cCClKK_pv3q0r/view?usp=sharing"
      ]
    },
    {
      "cell_type": "code",
      "metadata": {
        "id": "92EStR9KSu8N",
        "colab": {
          "base_uri": "https://localhost:8080/"
        },
        "outputId": "36d9e946-2070-4149-8a47-7e7fd3fb4bdf"
      },
      "source": [
        "def main():\n",
        "  total = 0\n",
        "  numbers = open('numbers.txt','r')\n",
        "  for line in numbers:\n",
        "    line=int(line)\n",
        "    total+=line\n",
        "  numbers.close()\n",
        "  print(total)\n",
        "main()"
      ],
      "execution_count": null,
      "outputs": [
        {
          "output_type": "stream",
          "text": [
            "5931486514\n"
          ],
          "name": "stdout"
        }
      ]
    },
    {
      "cell_type": "markdown",
      "metadata": {
        "id": "gW0mWcdDVgK4"
      },
      "source": [
        "**9. Average of Numbers** <br>\n",
        "Assume that a file containing a series of integers is named numbers.txt and exists on the Drive. Write a program that calculates the average of all the numbers stored in\n",
        "the file"
      ]
    },
    {
      "cell_type": "code",
      "metadata": {
        "id": "3-DZx-vnSvCe",
        "colab": {
          "base_uri": "https://localhost:8080/"
        },
        "outputId": "16172903-a643-41c3-d65b-95044cfa9eed"
      },
      "source": [
        "def main():\n",
        "  sum=0\n",
        "  count=0\n",
        "  numbers= open('numbers.txt', 'r')\n",
        "  for line in numbers:\n",
        "    line= int(line)\n",
        "    sum += line\n",
        "    count+=1\n",
        "  numbers.close()  \n",
        "  average= sum/count\n",
        "  print('The Average of these Numbers =',format(average , '.2f'))  \n",
        "main()"
      ],
      "execution_count": null,
      "outputs": [
        {
          "output_type": "stream",
          "text": [
            "The Average of these Numbers = 102267008.86\n"
          ],
          "name": "stdout"
        }
      ]
    },
    {
      "cell_type": "markdown",
      "metadata": {
        "id": "vjchCYETVwPx"
      },
      "source": [
        "**10. Random Number File Writer**<br>\n",
        "Write a program that writes a series of random numbers to a file. Each random number should be in the range of 1 \n",
        "through 500. The application should let the user specify how\n",
        "many random numbers the file will hold.\n"
      ]
    },
    {
      "cell_type": "code",
      "metadata": {
        "id": "DCyba_BZVxLF",
        "colab": {
          "base_uri": "https://localhost:8080/"
        },
        "outputId": "b6f83e1d-92a7-4269-ccbd-b48f6e8b9dfb"
      },
      "source": [
        "import random\n",
        "def main():\n",
        "  count= int(input('How many numbers do you want? '))\n",
        "  folder= open('file.txt','w')\n",
        "\n",
        "  for line in range(0,count+1):\n",
        "    folder.write(str(random.randint(0,500))+'\\n')\n",
        "  folder.close()\n",
        "  print('Data written to file.txt')  \n",
        "\n",
        "main()"
      ],
      "execution_count": 9,
      "outputs": [
        {
          "output_type": "stream",
          "text": [
            "How many numbers do you want? 5\n",
            "Data written to file.txt\n"
          ],
          "name": "stdout"
        }
      ]
    },
    {
      "cell_type": "markdown",
      "metadata": {
        "id": "p75ZKqbXWMdY"
      },
      "source": [
        "**11.  Exception Handing** <br>\n",
        "Modify the program that you wrote for Exercise 9 so it handles the following exceptions: <br>\n",
        "* It should handle any IOError exceptions that are raised when the file is opened and data\n",
        "is read from it. <br>\n",
        "* It should handle any ValueError exceptions that are raised when the items that are read from the file are converted to a number."
      ]
    },
    {
      "cell_type": "code",
      "metadata": {
        "id": "22SOHQbrVxRE",
        "colab": {
          "base_uri": "https://localhost:8080/"
        },
        "outputId": "86a550d8-661e-41dd-b920-62d0b4624b04"
      },
      "source": [
        "def main():\n",
        "  try:\n",
        "    sum=0\n",
        "    count=0\n",
        "    numbers= open('numbers.txt', 'r')\n",
        "    for line in numbers:\n",
        "      line= int(line)\n",
        "      sum += line\n",
        "      count+=1\n",
        "    numbers.close()  \n",
        "    average= sum/count\n",
        "    print('The Average of these Numbers =',format(average , '.2f'))  \n",
        "  except IOError:\n",
        "    print('An error occured trying to read the files.')\n",
        "  except ValueError:\n",
        "    print('Error, non-numeric data found in the file')  \n",
        "\n",
        "main()"
      ],
      "execution_count": 20,
      "outputs": [
        {
          "output_type": "stream",
          "text": [
            "The Average of these Numbers = 102267008.86\n"
          ],
          "name": "stdout"
        }
      ]
    }
  ]
}